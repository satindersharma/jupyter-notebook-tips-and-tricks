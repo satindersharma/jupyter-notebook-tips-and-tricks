{
 "cells": [
  {
   "cell_type": "markdown",
   "metadata": {},
   "source": [
    "# <font size =  24>Custom css file for jupyter notebook"
   ]
  },
  {
   "cell_type": "markdown",
   "metadata": {},
   "source": [
    "# here is your custom.css file path\n",
    "\n",
    "C:\\Users\\your_user_name\\.jupyter\\custom\n",
    "#here my username is angryprash\n",
    "C:\\Users\\angryprash\\.jupyter\\custom"
   ]
  },
  {
   "cell_type": "markdown",
   "metadata": {},
   "source": [
    "```css\n",
    "{ padding-top:0px !important; }\n",
    ".container {\n",
    "    width: 98% !important;\n",
    "}   \n",
    "\n",
    "div.cell.selected {\n",
    "    border-left-width: 1px !important;\t\n",
    "}\n",
    "\n",
    "div.output_scroll {\n",
    "    resize: vertical !important;\n",
    "}\n",
    "\n",
    "div.prompt.input_prompt{\n",
    "\tmin-width:0ex !important;\n",
    "}\n",
    "\n",
    "div.text_cell_render rendered_html{\n",
    "\ttext-align:justify !important;\n",
    "}\n",
    ".end_space { min-height:0px !important; }\n",
    "\n",
    "```"
   ]
  }
 ],
 "metadata": {
  "kernelspec": {
   "display_name": "Python 3",
   "language": "python",
   "name": "python3"
  },
  "language_info": {
   "codemirror_mode": {
    "name": "ipython",
    "version": 3
   },
   "file_extension": ".py",
   "mimetype": "text/x-python",
   "name": "python",
   "nbconvert_exporter": "python",
   "pygments_lexer": "ipython3",
   "version": "3.6.4"
  }
 },
 "nbformat": 4,
 "nbformat_minor": 2
}
